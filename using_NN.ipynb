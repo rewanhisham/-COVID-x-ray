{
  "nbformat": 4,
  "nbformat_minor": 0,
  "metadata": {
    "colab": {
      "name": "using NN.ipynb",
      "provenance": [],
      "toc_visible": true
    },
    "kernelspec": {
      "name": "python3",
      "display_name": "Python 3"
    },
    "language_info": {
      "name": "python"
    }
  },
  "cells": [
    {
      "cell_type": "code",
      "execution_count": null,
      "metadata": {
        "id": "ivFmI387lIRT"
      },
      "outputs": [],
      "source": [
        "import cv2"
      ]
    },
    {
      "cell_type": "code",
      "source": [
        "import os"
      ],
      "metadata": {
        "id": "MzBUoAIlmhhh"
      },
      "execution_count": null,
      "outputs": []
    },
    {
      "cell_type": "code",
      "source": [
        "from google.colab import drive\n",
        "drive.mount('/content/drive')"
      ],
      "metadata": {
        "colab": {
          "base_uri": "https://localhost:8080/"
        },
        "id": "VFyuLqormj6W",
        "outputId": "2e83f947-7ea0-4a91-ff06-0f2aa180afd1"
      },
      "execution_count": null,
      "outputs": [
        {
          "output_type": "stream",
          "name": "stdout",
          "text": [
            "Drive already mounted at /content/drive; to attempt to forcibly remount, call drive.mount(\"/content/drive\", force_remount=True).\n"
          ]
        }
      ]
    },
    {
      "cell_type": "code",
      "source": [
        "cat='/content/drive/MyDrive/Dataset'\n",
        "type(cat)"
      ],
      "metadata": {
        "colab": {
          "base_uri": "https://localhost:8080/"
        },
        "id": "dTurwYpFmnZt",
        "outputId": "b8a9ec42-bb52-4bdb-c78c-68a7b5cc907e"
      },
      "execution_count": null,
      "outputs": [
        {
          "output_type": "execute_result",
          "data": {
            "text/plain": [
              "str"
            ]
          },
          "metadata": {},
          "execution_count": 65
        }
      ]
    },
    {
      "cell_type": "code",
      "source": [
        "dataset=os.listdir(cat)"
      ],
      "metadata": {
        "id": "WvPP5T5tmqXx"
      },
      "execution_count": null,
      "outputs": []
    },
    {
      "cell_type": "code",
      "source": [
        "lables=[i for i in range(len(dataset))]"
      ],
      "metadata": {
        "id": "RDjZYQvimw5q"
      },
      "execution_count": null,
      "outputs": []
    },
    {
      "cell_type": "code",
      "source": [
        "lables"
      ],
      "metadata": {
        "colab": {
          "base_uri": "https://localhost:8080/"
        },
        "id": "pyZKZ4cumx68",
        "outputId": "28094d53-134c-4f75-fa14-d1a7016a527f"
      },
      "execution_count": null,
      "outputs": [
        {
          "output_type": "execute_result",
          "data": {
            "text/plain": [
              "[0, 1]"
            ]
          },
          "metadata": {},
          "execution_count": 68
        }
      ]
    },
    {
      "cell_type": "code",
      "source": [
        "label_dict=dict(zip(dataset,lables))\n",
        "\n",
        "label_dict"
      ],
      "metadata": {
        "colab": {
          "base_uri": "https://localhost:8080/"
        },
        "id": "4yieUrTFnVnP",
        "outputId": "0b6ebb81-e4e0-4efa-ffd9-fed93d63be3f"
      },
      "execution_count": null,
      "outputs": [
        {
          "output_type": "execute_result",
          "data": {
            "text/plain": [
              "{'Negative': 0, 'Positive': 1}"
            ]
          },
          "metadata": {},
          "execution_count": 69
        }
      ]
    },
    {
      "cell_type": "code",
      "source": [
        "import numpy as np\n",
        "data=[]\n",
        "target=[]\n",
        "thrsh=170\n",
        "maxval=255\n",
        "from PIL import Image\n",
        "for i in dataset:\n",
        "    forder_path=os.path.join(cat,i)\n",
        "    img_names=os.listdir(forder_path)\n",
        "    for img_name in img_names:\n",
        "        img_path=os.path.join(forder_path,img_name)\n",
        "        img=cv2.imread(img_path)\n",
        "        im_bin=(img>thrsh)*maxval\n",
        "        Image.fromarray(np.uint8(im_bin)).save('bin.RGBA')\n",
        "        data.append(im_bin)\n",
        "        target.append(label_dict[i])"
      ],
      "metadata": {
        "id": "AyFznYDTnXkd"
      },
      "execution_count": null,
      "outputs": []
    },
    {
      "cell_type": "code",
      "source": [
        "from sklearn.model_selection import train_test_split\n",
        "X_train, X_val, y_train, y_val = train_test_split(data,target, test_size=0.20, random_state=13, shuffle =True)"
      ],
      "metadata": {
        "id": "JftEM_l6ndNO"
      },
      "execution_count": null,
      "outputs": []
    },
    {
      "cell_type": "code",
      "source": [
        "import numpy as np\n",
        "X_train=np.array(X_train)\n",
        "X_val=np.array(X_val)\n",
        "y_train=np.array(y_train)\n",
        "y_val=np.array(y_val)"
      ],
      "metadata": {
        "id": "DBwjuof2k6f3"
      },
      "execution_count": null,
      "outputs": []
    },
    {
      "cell_type": "code",
      "source": [
        "import tensorflow as tf\n",
        "import keras"
      ],
      "metadata": {
        "id": "GxCo3EdvnyrK"
      },
      "execution_count": null,
      "outputs": []
    },
    {
      "cell_type": "code",
      "source": [
        "KerasModel = keras.models.Sequential([\n",
        "        keras.layers.Conv2D(200,kernel_size=(3,3),activation='relu',input_shape=(100,100,3)),\n",
        "        keras.layers.Conv2D(150,kernel_size=(3,3),activation='relu'),\n",
        "        keras.layers.MaxPool2D(4,4),\n",
        "        keras.layers.Conv2D(120,kernel_size=(3,3),activation='relu'),    \n",
        "        keras.layers.Conv2D(80,kernel_size=(3,3),activation='relu'),    \n",
        "        keras.layers.Conv2D(50,kernel_size=(3,3),activation='relu'),\n",
        "        keras.layers.MaxPool2D(4,4),\n",
        "        keras.layers.Flatten() ,    \n",
        "        keras.layers.Dense(120,activation='relu') ,    \n",
        "        keras.layers.Dense(100,activation='relu') ,    \n",
        "        keras.layers.Dense(50,activation='relu') ,        \n",
        "        keras.layers.Dropout(rate=0.5) ,            \n",
        "        keras.layers.Dense(2,activation='softmax') ,    \n",
        "        ])"
      ],
      "metadata": {
        "id": "VWLTQQafn1O7"
      },
      "execution_count": null,
      "outputs": []
    },
    {
      "cell_type": "code",
      "source": [
        "KerasModel.compile(optimizer ='adam',loss='sparse_categorical_crossentropy',metrics=['accuracy'])"
      ],
      "metadata": {
        "id": "_0zJBevvn7iC"
      },
      "execution_count": null,
      "outputs": []
    },
    {
      "cell_type": "code",
      "source": [
        "print(KerasModel.summary())"
      ],
      "metadata": {
        "colab": {
          "base_uri": "https://localhost:8080/"
        },
        "id": "tCj5g7RJn_rT",
        "outputId": "e108023a-4d1d-478a-e59c-0c65b8abb5bf"
      },
      "execution_count": null,
      "outputs": [
        {
          "output_type": "stream",
          "name": "stdout",
          "text": [
            "Model: \"sequential_4\"\n",
            "_________________________________________________________________\n",
            " Layer (type)                Output Shape              Param #   \n",
            "=================================================================\n",
            " conv2d_20 (Conv2D)          (None, 98, 98, 200)       5600      \n",
            "                                                                 \n",
            " conv2d_21 (Conv2D)          (None, 96, 96, 150)       270150    \n",
            "                                                                 \n",
            " max_pooling2d_8 (MaxPooling  (None, 24, 24, 150)      0         \n",
            " 2D)                                                             \n",
            "                                                                 \n",
            " conv2d_22 (Conv2D)          (None, 22, 22, 120)       162120    \n",
            "                                                                 \n",
            " conv2d_23 (Conv2D)          (None, 20, 20, 80)        86480     \n",
            "                                                                 \n",
            " conv2d_24 (Conv2D)          (None, 18, 18, 50)        36050     \n",
            "                                                                 \n",
            " max_pooling2d_9 (MaxPooling  (None, 4, 4, 50)         0         \n",
            " 2D)                                                             \n",
            "                                                                 \n",
            " flatten_4 (Flatten)         (None, 800)               0         \n",
            "                                                                 \n",
            " dense_16 (Dense)            (None, 120)               96120     \n",
            "                                                                 \n",
            " dense_17 (Dense)            (None, 100)               12100     \n",
            "                                                                 \n",
            " dense_18 (Dense)            (None, 50)                5050      \n",
            "                                                                 \n",
            " dropout_4 (Dropout)         (None, 50)                0         \n",
            "                                                                 \n",
            " dense_19 (Dense)            (None, 2)                 102       \n",
            "                                                                 \n",
            "=================================================================\n",
            "Total params: 673,772\n",
            "Trainable params: 673,772\n",
            "Non-trainable params: 0\n",
            "_________________________________________________________________\n",
            "None\n"
          ]
        }
      ]
    },
    {
      "cell_type": "code",
      "source": [
        "epochs = 50\n",
        "ThisModel = KerasModel.fit(X_train,y_train, epochs=epochs,batch_size=64,verbose=1)"
      ],
      "metadata": {
        "colab": {
          "base_uri": "https://localhost:8080/"
        },
        "id": "xBjEVGk4oHDf",
        "outputId": "1c2d9ce4-e775-4ee6-96a4-a5f9b5f2b5d6"
      },
      "execution_count": null,
      "outputs": [
        {
          "output_type": "stream",
          "name": "stdout",
          "text": [
            "Epoch 1/50\n",
            "1/1 [==============================] - 11s 11s/step - loss: 4.4672 - accuracy: 0.5938\n",
            "Epoch 2/50\n",
            "1/1 [==============================] - 10s 10s/step - loss: 3.1669 - accuracy: 0.4688\n",
            "Epoch 3/50\n",
            "1/1 [==============================] - 10s 10s/step - loss: 4.1339 - accuracy: 0.5312\n",
            "Epoch 4/50\n",
            "1/1 [==============================] - 10s 10s/step - loss: 6.7018 - accuracy: 0.5625\n",
            "Epoch 5/50\n",
            "1/1 [==============================] - 10s 10s/step - loss: 2.3604 - accuracy: 0.6250\n",
            "Epoch 6/50\n",
            "1/1 [==============================] - 10s 10s/step - loss: 2.6412 - accuracy: 0.6250\n",
            "Epoch 7/50\n",
            "1/1 [==============================] - 10s 10s/step - loss: 1.1355 - accuracy: 0.7500\n",
            "Epoch 8/50\n",
            "1/1 [==============================] - 10s 10s/step - loss: 0.6925 - accuracy: 0.7812\n",
            "Epoch 9/50\n",
            "1/1 [==============================] - 10s 10s/step - loss: 0.7552 - accuracy: 0.8125\n",
            "Epoch 10/50\n",
            "1/1 [==============================] - 10s 10s/step - loss: 0.5163 - accuracy: 0.7500\n",
            "Epoch 11/50\n",
            "1/1 [==============================] - 10s 10s/step - loss: 0.9782 - accuracy: 0.8125\n",
            "Epoch 12/50\n",
            "1/1 [==============================] - 10s 10s/step - loss: 0.2489 - accuracy: 0.9375\n",
            "Epoch 13/50\n",
            "1/1 [==============================] - 10s 10s/step - loss: 0.3547 - accuracy: 0.8750\n",
            "Epoch 14/50\n",
            "1/1 [==============================] - 10s 10s/step - loss: 0.3465 - accuracy: 0.8750\n",
            "Epoch 15/50\n",
            "1/1 [==============================] - 10s 10s/step - loss: 0.4354 - accuracy: 0.8750\n",
            "Epoch 16/50\n",
            "1/1 [==============================] - 10s 10s/step - loss: 0.4803 - accuracy: 0.8438\n",
            "Epoch 17/50\n",
            "1/1 [==============================] - 10s 10s/step - loss: 0.1693 - accuracy: 0.9688\n",
            "Epoch 18/50\n",
            "1/1 [==============================] - 10s 10s/step - loss: 0.3237 - accuracy: 0.8750\n",
            "Epoch 19/50\n",
            "1/1 [==============================] - 10s 10s/step - loss: 0.1795 - accuracy: 0.9062\n",
            "Epoch 20/50\n",
            "1/1 [==============================] - 10s 10s/step - loss: 0.2114 - accuracy: 0.9375\n",
            "Epoch 21/50\n",
            "1/1 [==============================] - 10s 10s/step - loss: 0.0963 - accuracy: 0.9688\n",
            "Epoch 22/50\n",
            "1/1 [==============================] - 10s 10s/step - loss: 0.2399 - accuracy: 0.9062\n",
            "Epoch 23/50\n",
            "1/1 [==============================] - 10s 10s/step - loss: 0.1580 - accuracy: 0.9375\n",
            "Epoch 24/50\n",
            "1/1 [==============================] - 10s 10s/step - loss: 0.1486 - accuracy: 0.9375\n",
            "Epoch 25/50\n",
            "1/1 [==============================] - 10s 10s/step - loss: 0.0227 - accuracy: 1.0000\n",
            "Epoch 26/50\n",
            "1/1 [==============================] - 10s 10s/step - loss: 0.0201 - accuracy: 1.0000\n",
            "Epoch 27/50\n",
            "1/1 [==============================] - 10s 10s/step - loss: 0.1471 - accuracy: 0.9062\n",
            "Epoch 28/50\n",
            "1/1 [==============================] - 10s 10s/step - loss: 0.1154 - accuracy: 0.9688\n",
            "Epoch 29/50\n",
            "1/1 [==============================] - 10s 10s/step - loss: 0.1551 - accuracy: 0.9375\n",
            "Epoch 30/50\n",
            "1/1 [==============================] - 10s 10s/step - loss: 0.0274 - accuracy: 1.0000\n",
            "Epoch 31/50\n",
            "1/1 [==============================] - 10s 10s/step - loss: 0.0088 - accuracy: 1.0000\n",
            "Epoch 32/50\n",
            "1/1 [==============================] - 10s 10s/step - loss: 0.0124 - accuracy: 1.0000\n",
            "Epoch 33/50\n",
            "1/1 [==============================] - 10s 10s/step - loss: 0.0156 - accuracy: 1.0000\n",
            "Epoch 34/50\n",
            "1/1 [==============================] - 10s 10s/step - loss: 0.0977 - accuracy: 0.9688\n",
            "Epoch 35/50\n",
            "1/1 [==============================] - 10s 10s/step - loss: 0.0018 - accuracy: 1.0000\n",
            "Epoch 36/50\n",
            "1/1 [==============================] - 10s 10s/step - loss: 0.0051 - accuracy: 1.0000\n",
            "Epoch 37/50\n",
            "1/1 [==============================] - 10s 10s/step - loss: 0.0125 - accuracy: 1.0000\n",
            "Epoch 38/50\n",
            "1/1 [==============================] - 10s 10s/step - loss: 0.0278 - accuracy: 1.0000\n",
            "Epoch 39/50\n",
            "1/1 [==============================] - 10s 10s/step - loss: 0.0233 - accuracy: 1.0000\n",
            "Epoch 40/50\n",
            "1/1 [==============================] - 10s 10s/step - loss: 0.0981 - accuracy: 0.9375\n",
            "Epoch 41/50\n",
            "1/1 [==============================] - 10s 10s/step - loss: 0.0406 - accuracy: 1.0000\n",
            "Epoch 42/50\n",
            "1/1 [==============================] - 10s 10s/step - loss: 0.0294 - accuracy: 1.0000\n",
            "Epoch 43/50\n",
            "1/1 [==============================] - 10s 10s/step - loss: 0.0057 - accuracy: 1.0000\n",
            "Epoch 44/50\n",
            "1/1 [==============================] - 10s 10s/step - loss: 0.0163 - accuracy: 1.0000\n",
            "Epoch 45/50\n",
            "1/1 [==============================] - 10s 10s/step - loss: 9.4167e-04 - accuracy: 1.0000\n",
            "Epoch 46/50\n",
            "1/1 [==============================] - 10s 10s/step - loss: 0.0052 - accuracy: 1.0000\n",
            "Epoch 47/50\n",
            "1/1 [==============================] - 10s 10s/step - loss: 0.0019 - accuracy: 1.0000\n",
            "Epoch 48/50\n",
            "1/1 [==============================] - 10s 10s/step - loss: 0.0096 - accuracy: 1.0000\n",
            "Epoch 49/50\n",
            "1/1 [==============================] - 10s 10s/step - loss: 0.0151 - accuracy: 1.0000\n",
            "Epoch 50/50\n",
            "1/1 [==============================] - 10s 10s/step - loss: 0.0063 - accuracy: 1.0000\n"
          ]
        }
      ]
    },
    {
      "cell_type": "code",
      "source": [
        "ModelLoss, ModelAccuracy = KerasModel.evaluate(X_val, y_val)\n",
        "\n",
        "print('Test Loss is {}'.format(ModelLoss))\n",
        "print('Test Accuracy is {}'.format(ModelAccuracy ))"
      ],
      "metadata": {
        "colab": {
          "base_uri": "https://localhost:8080/"
        },
        "id": "WkTkjYVSoNe0",
        "outputId": "36903cc9-a785-4c8e-bdc1-fe8f1a87486c"
      },
      "execution_count": null,
      "outputs": [
        {
          "output_type": "stream",
          "name": "stdout",
          "text": [
            "1/1 [==============================] - 1s 902ms/step - loss: 3.2508e-04 - accuracy: 1.0000\n",
            "Test Loss is 0.0003250839654356241\n",
            "Test Accuracy is 1.0\n"
          ]
        }
      ]
    },
    {
      "cell_type": "code",
      "source": [
        "KerasModel = keras.models.Sequential([\n",
        "        keras.layers.Conv2D(200,kernel_size=(3,3),activation='sigmoid',input_shape=(100,100,3)),\n",
        "        keras.layers.Conv2D(150,kernel_size=(3,3),activation='sigmoid'),\n",
        "        keras.layers.MaxPool2D(4,4),\n",
        "        keras.layers.Conv2D(120,kernel_size=(3,3),activation='sigmoid'),    \n",
        "        keras.layers.Conv2D(80,kernel_size=(3,3),activation='sigmoid'),    \n",
        "        keras.layers.Conv2D(50,kernel_size=(3,3),activation='sigmoid'),\n",
        "        keras.layers.MaxPool2D(4,4),\n",
        "        keras.layers.Flatten() ,    \n",
        "        keras.layers.Dense(120,activation='sigmoid') ,    \n",
        "        keras.layers.Dense(100,activation='sigmoid') ,    \n",
        "        keras.layers.Dense(50,activation='sigmoid') ,        \n",
        "        keras.layers.Dropout(rate=0.5) ,            \n",
        "        keras.layers.Dense(2,activation='softmax') ,    \n",
        "        ])"
      ],
      "metadata": {
        "id": "b30NkkNFlORg"
      },
      "execution_count": null,
      "outputs": []
    },
    {
      "cell_type": "code",
      "source": [
        "KerasModel.compile(optimizer ='adam',loss='sparse_categorical_crossentropy',metrics=['accuracy'])"
      ],
      "metadata": {
        "id": "QVByG4iOlkcF"
      },
      "execution_count": null,
      "outputs": []
    },
    {
      "cell_type": "code",
      "source": [
        "epochs = 50\n",
        "ThisModel = KerasModel.fit(X_train,y_train, epochs=epochs,batch_size=64,verbose=1)"
      ],
      "metadata": {
        "colab": {
          "base_uri": "https://localhost:8080/"
        },
        "id": "BfSF2Rkyll8J",
        "outputId": "1c294d8f-f0a5-4bc5-f868-e99a49ab9901"
      },
      "execution_count": null,
      "outputs": [
        {
          "output_type": "stream",
          "name": "stdout",
          "text": [
            "Epoch 1/50\n",
            "1/1 [==============================] - 11s 11s/step - loss: 0.8597 - accuracy: 0.4375\n",
            "Epoch 2/50\n",
            "1/1 [==============================] - 10s 10s/step - loss: 0.6581 - accuracy: 0.5938\n",
            "Epoch 3/50\n",
            "1/1 [==============================] - 10s 10s/step - loss: 0.8047 - accuracy: 0.5625\n",
            "Epoch 4/50\n",
            "1/1 [==============================] - 10s 10s/step - loss: 0.8938 - accuracy: 0.3438\n",
            "Epoch 5/50\n",
            "1/1 [==============================] - 10s 10s/step - loss: 0.6859 - accuracy: 0.6250\n",
            "Epoch 6/50\n",
            "1/1 [==============================] - 10s 10s/step - loss: 0.8474 - accuracy: 0.5000\n",
            "Epoch 7/50\n",
            "1/1 [==============================] - 10s 10s/step - loss: 0.7724 - accuracy: 0.5000\n",
            "Epoch 8/50\n",
            "1/1 [==============================] - 10s 10s/step - loss: 0.6962 - accuracy: 0.5625\n",
            "Epoch 9/50\n",
            "1/1 [==============================] - 10s 10s/step - loss: 0.8703 - accuracy: 0.4688\n",
            "Epoch 10/50\n",
            "1/1 [==============================] - 10s 10s/step - loss: 0.8488 - accuracy: 0.4688\n",
            "Epoch 11/50\n",
            "1/1 [==============================] - 10s 10s/step - loss: 0.7249 - accuracy: 0.4688\n",
            "Epoch 12/50\n",
            "1/1 [==============================] - 10s 10s/step - loss: 0.6859 - accuracy: 0.5312\n",
            "Epoch 13/50\n",
            "1/1 [==============================] - 10s 10s/step - loss: 0.7320 - accuracy: 0.4688\n",
            "Epoch 14/50\n",
            "1/1 [==============================] - 10s 10s/step - loss: 0.5977 - accuracy: 0.7500\n",
            "Epoch 15/50\n",
            "1/1 [==============================] - 10s 10s/step - loss: 0.9242 - accuracy: 0.4062\n",
            "Epoch 16/50\n",
            "1/1 [==============================] - 10s 10s/step - loss: 0.7837 - accuracy: 0.5000\n",
            "Epoch 17/50\n",
            "1/1 [==============================] - 10s 10s/step - loss: 0.6908 - accuracy: 0.5938\n",
            "Epoch 18/50\n",
            "1/1 [==============================] - 10s 10s/step - loss: 0.7655 - accuracy: 0.5312\n",
            "Epoch 19/50\n",
            "1/1 [==============================] - 10s 10s/step - loss: 0.7009 - accuracy: 0.5312\n",
            "Epoch 20/50\n",
            "1/1 [==============================] - 10s 10s/step - loss: 0.7297 - accuracy: 0.5625\n",
            "Epoch 21/50\n",
            "1/1 [==============================] - 10s 10s/step - loss: 0.6519 - accuracy: 0.6250\n",
            "Epoch 22/50\n",
            "1/1 [==============================] - 10s 10s/step - loss: 0.7857 - accuracy: 0.4688\n",
            "Epoch 23/50\n",
            "1/1 [==============================] - 10s 10s/step - loss: 0.7363 - accuracy: 0.5312\n",
            "Epoch 24/50\n",
            "1/1 [==============================] - 10s 10s/step - loss: 0.7201 - accuracy: 0.4375\n",
            "Epoch 25/50\n",
            "1/1 [==============================] - 10s 10s/step - loss: 0.6891 - accuracy: 0.4688\n",
            "Epoch 26/50\n",
            "1/1 [==============================] - 10s 10s/step - loss: 0.8430 - accuracy: 0.4062\n",
            "Epoch 27/50\n",
            "1/1 [==============================] - 10s 10s/step - loss: 0.7700 - accuracy: 0.5000\n",
            "Epoch 28/50\n",
            "1/1 [==============================] - 10s 10s/step - loss: 0.8098 - accuracy: 0.3438\n",
            "Epoch 29/50\n",
            "1/1 [==============================] - 10s 10s/step - loss: 0.7072 - accuracy: 0.5312\n",
            "Epoch 30/50\n",
            "1/1 [==============================] - 10s 10s/step - loss: 0.7669 - accuracy: 0.4688\n",
            "Epoch 31/50\n",
            "1/1 [==============================] - 10s 10s/step - loss: 0.7664 - accuracy: 0.4688\n",
            "Epoch 32/50\n",
            "1/1 [==============================] - 10s 10s/step - loss: 0.7065 - accuracy: 0.5625\n",
            "Epoch 33/50\n",
            "1/1 [==============================] - 10s 10s/step - loss: 0.7820 - accuracy: 0.5000\n",
            "Epoch 34/50\n",
            "1/1 [==============================] - 10s 10s/step - loss: 0.7762 - accuracy: 0.3750\n",
            "Epoch 35/50\n",
            "1/1 [==============================] - 10s 10s/step - loss: 0.6951 - accuracy: 0.5312\n",
            "Epoch 36/50\n",
            "1/1 [==============================] - 10s 10s/step - loss: 0.6920 - accuracy: 0.5312\n",
            "Epoch 37/50\n",
            "1/1 [==============================] - 10s 10s/step - loss: 0.7294 - accuracy: 0.5625\n",
            "Epoch 38/50\n",
            "1/1 [==============================] - 10s 10s/step - loss: 0.7644 - accuracy: 0.5625\n",
            "Epoch 39/50\n",
            "1/1 [==============================] - 10s 10s/step - loss: 0.7732 - accuracy: 0.3438\n",
            "Epoch 40/50\n",
            "1/1 [==============================] - 10s 10s/step - loss: 0.7510 - accuracy: 0.5312\n",
            "Epoch 41/50\n",
            "1/1 [==============================] - 10s 10s/step - loss: 0.7540 - accuracy: 0.4375\n",
            "Epoch 42/50\n",
            "1/1 [==============================] - 10s 10s/step - loss: 0.6783 - accuracy: 0.5312\n",
            "Epoch 43/50\n",
            "1/1 [==============================] - 10s 10s/step - loss: 0.7292 - accuracy: 0.5312\n",
            "Epoch 44/50\n",
            "1/1 [==============================] - 10s 10s/step - loss: 0.7742 - accuracy: 0.4375\n",
            "Epoch 45/50\n",
            "1/1 [==============================] - 10s 10s/step - loss: 0.7107 - accuracy: 0.5625\n",
            "Epoch 46/50\n",
            "1/1 [==============================] - 10s 10s/step - loss: 0.8181 - accuracy: 0.4062\n",
            "Epoch 47/50\n",
            "1/1 [==============================] - 10s 10s/step - loss: 0.6982 - accuracy: 0.5000\n",
            "Epoch 48/50\n",
            "1/1 [==============================] - 10s 10s/step - loss: 0.6609 - accuracy: 0.6250\n",
            "Epoch 49/50\n",
            "1/1 [==============================] - 10s 10s/step - loss: 0.6930 - accuracy: 0.5312\n",
            "Epoch 50/50\n",
            "1/1 [==============================] - 10s 10s/step - loss: 0.7529 - accuracy: 0.4062\n"
          ]
        }
      ]
    },
    {
      "cell_type": "code",
      "source": [
        "ModelLoss, ModelAccuracy = KerasModel.evaluate(X_val, y_val)\n",
        "\n",
        "print('Test Loss is {}'.format(ModelLoss))\n",
        "print('Test Accuracy is {}'.format(ModelAccuracy ))"
      ],
      "metadata": {
        "colab": {
          "base_uri": "https://localhost:8080/"
        },
        "id": "n-N7TfInlqX2",
        "outputId": "9c12fb65-925d-4e04-97b5-3919f2d5bc02"
      },
      "execution_count": null,
      "outputs": [
        {
          "output_type": "stream",
          "name": "stdout",
          "text": [
            "1/1 [==============================] - 1s 924ms/step - loss: 0.7136 - accuracy: 0.3750\n",
            "Test Loss is 0.7135568261146545\n",
            "Test Accuracy is 0.375\n"
          ]
        }
      ]
    }
  ]
}